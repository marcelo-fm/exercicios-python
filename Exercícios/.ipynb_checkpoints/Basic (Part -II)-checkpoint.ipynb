{
 "cells": [
  {
   "cell_type": "markdown",
   "id": "8c7e7f45-190f-48a0-9afc-57055d98c1e4",
   "metadata": {},
   "source": [
    "# Python Basic (Part-II) [142 exercises with solution](https://www.w3resource.com/python-exercises/basic/)"
   ]
  },
  {
   "cell_type": "markdown",
   "id": "793f21b1-9d82-42d2-88eb-f6bcf157dd10",
   "metadata": {},
   "source": [
    "### 1. Write a Python function that takes a sequence of numbers and determines whether all the numbers are different from each other."
   ]
  },
  {
   "cell_type": "code",
   "execution_count": 36,
   "id": "a17b0056-104a-4c46-8a25-e692de6189d1",
   "metadata": {},
   "outputs": [
    {
     "name": "stdout",
     "output_type": "stream",
     "text": [
      "Há 1 números repetidos: \n",
      "Os números [5]\n"
     ]
    },
    {
     "data": {
      "text/plain": [
       "(True, [5])"
      ]
     },
     "execution_count": 36,
     "metadata": {},
     "output_type": "execute_result"
    }
   ],
   "source": [
    "data = [1, 2, 5, 77, 5]\n",
    "\n",
    "def check_repeated(numbers):\n",
    "    '''(list) --> (str)'''\n",
    "    num_rep = []\n",
    "    repetidos = False\n",
    "    for i in range(0, len(numbers)):\n",
    "        for j in range(i+1, len(numbers)):\n",
    "            if numbers[i] == numbers[j]:\n",
    "                num_rep.append(numbers[i])\n",
    "    if num_rep != []:\n",
    "        repetidos = True\n",
    "        print(\"Há\", len(num_rep), \"números repetidos: \\n\"\n",
    "             \"Os números\", num_rep)\n",
    "        return repetidos, num_rep\n",
    "    else:\n",
    "        print(\"Não há números repetidos\")\n",
    "        return repetidos\n",
    "\n",
    "check_repeated(data)\n"
   ]
  }
 ],
 "metadata": {
  "kernelspec": {
   "display_name": "Python 3",
   "language": "python",
   "name": "python3"
  },
  "language_info": {
   "codemirror_mode": {
    "name": "ipython",
    "version": 3
   },
   "file_extension": ".py",
   "mimetype": "text/x-python",
   "name": "python",
   "nbconvert_exporter": "python",
   "pygments_lexer": "ipython3",
   "version": "3.8.8"
  }
 },
 "nbformat": 4,
 "nbformat_minor": 5
}

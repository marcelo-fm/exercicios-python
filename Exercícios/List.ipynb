{
 "cells": [
  {
   "cell_type": "markdown",
   "id": "dcb33629-e81d-4b25-aa1a-bba1e5ce6660",
   "metadata": {},
   "source": [
    "# Python List [272 exercises with solution](https://www.w3resource.com/python-exercises/list/)"
   ]
  },
  {
   "cell_type": "markdown",
   "id": "1f801203-6715-4be8-b0b0-717193033d01",
   "metadata": {},
   "source": [
    "### 1. Write a Python program to sum all the items in a list."
   ]
  },
  {
   "cell_type": "code",
   "execution_count": 3,
   "id": "c459d909-a947-4359-812d-09a85e93013a",
   "metadata": {},
   "outputs": [],
   "source": [
    "def sum_list(lista):\n",
    "    '''Recebe uma lista e retorna a sua soma'''\n",
    "    return sum(lista)"
   ]
  },
  {
   "cell_type": "code",
   "execution_count": 12,
   "id": "66db5e64-f55d-4dfe-8f40-5f2711a150f1",
   "metadata": {},
   "outputs": [
    {
     "data": {
      "text/plain": [
       "27"
      ]
     },
     "execution_count": 12,
     "metadata": {},
     "output_type": "execute_result"
    }
   ],
   "source": [
    "dado_soma = [8, 5, 2, 1, 11, 0]\n",
    "\n",
    "sum_list(dado_soma)"
   ]
  },
  {
   "cell_type": "markdown",
   "id": "5abca212-7213-46ee-ae10-4bade7951f71",
   "metadata": {},
   "source": [
    "### 2. Write a Python program to multiply all the items in a list."
   ]
  },
  {
   "cell_type": "code",
   "execution_count": 5,
   "id": "1091ff3e-d230-4ca9-a7aa-45b3f4667de7",
   "metadata": {},
   "outputs": [],
   "source": [
    "def multiply_list(lista):\n",
    "    res = lista[0]\n",
    "    for i in range(1, len(lista)):\n",
    "        res *= lista[i]\n",
    "    \n",
    "    return res"
   ]
  },
  {
   "cell_type": "code",
   "execution_count": 14,
   "id": "c2428f5a-9e43-4b03-b1e8-dc31a8781018",
   "metadata": {},
   "outputs": [
    {
     "data": {
      "text/plain": [
       "880"
      ]
     },
     "execution_count": 14,
     "metadata": {},
     "output_type": "execute_result"
    }
   ],
   "source": [
    "dado_mult = [8, 5, 2, 1, 11]\n",
    "\n",
    "multiply_list(dado_mult)"
   ]
  },
  {
   "cell_type": "code",
   "execution_count": null,
   "id": "61ccec07-c775-47c4-a042-31f3546b09d1",
   "metadata": {},
   "outputs": [],
   "source": []
  }
 ],
 "metadata": {
  "kernelspec": {
   "display_name": "Python 3",
   "language": "python",
   "name": "python3"
  },
  "language_info": {
   "codemirror_mode": {
    "name": "ipython",
    "version": 3
   },
   "file_extension": ".py",
   "mimetype": "text/x-python",
   "name": "python",
   "nbconvert_exporter": "python",
   "pygments_lexer": "ipython3",
   "version": "3.8.8"
  }
 },
 "nbformat": 4,
 "nbformat_minor": 5
}

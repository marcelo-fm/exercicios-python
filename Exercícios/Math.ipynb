{
 "cells": [
  {
   "cell_type": "markdown",
   "id": "c99e4b0a-f8c8-40a1-9410-4c9bb928db4e",
   "metadata": {},
   "source": [
    "# Python Math [88 exercises with solution](https://www.w3resource.com/python-exercises/math/)"
   ]
  },
  {
   "cell_type": "markdown",
   "id": "e58707b2-da6b-49c8-998d-bee2aa56bd66",
   "metadata": {},
   "source": [
    "### 1. Write a Python program to convert degree to radian.\n",
    "Note : The radian is the standard unit of angular measure, used in many areas of mathematics. An angle's measurement in radians is numerically equal to the length of a corresponding arc of a unit circle; one radian is just under 57.3 degrees (when the arc length is equal to the radius).   \n",
    "Test Data:  \n",
    "Degree : 15  \n",
    "Expected Result in radians: 0.2619047619047619  "
   ]
  },
  {
   "cell_type": "code",
   "execution_count": 1,
   "id": "eb4e1bc8-839a-49f5-b166-f5f7364a954b",
   "metadata": {},
   "outputs": [
    {
     "name": "stdout",
     "output_type": "stream",
     "text": [
      "0.2617993877991494\n"
     ]
    }
   ],
   "source": [
    "import numpy as np\n",
    "\n",
    "def dg_to_rad(degree):\n",
    "    radian = degree * (np.pi / 180)\n",
    "    return radian\n",
    "\n",
    "print(dg_to_rad(15))"
   ]
  },
  {
   "cell_type": "raw",
   "id": "de185f38-e5cc-4c91-9405-ea65806add52",
   "metadata": {},
   "source": [
    "graus = int(input(\"Digite o número de graus: \"))\n",
    "print(\"O valor em radianos é:\", dg_to_rad(graus))"
   ]
  },
  {
   "cell_type": "markdown",
   "id": "9b57e13f-bdf0-4a3e-9957-7d0a6b6806ea",
   "metadata": {},
   "source": [
    "### 2. Write a Python program to convert radian to degree.\n",
    "Test Data:  \n",
    "Radian : .52  \n",
    "Expected Result : 29.781818181818185"
   ]
  },
  {
   "cell_type": "code",
   "execution_count": 2,
   "id": "f14a7e07-fe87-4d7c-8f6d-3cc4a0afa406",
   "metadata": {},
   "outputs": [
    {
     "name": "stdout",
     "output_type": "stream",
     "text": [
      "29.79380534680281\n"
     ]
    }
   ],
   "source": [
    "def rad_to_dg(radian):\n",
    "    degree = radian * (180 / np.pi)\n",
    "    return degree\n",
    "\n",
    "print(rad_to_dg(0.52))"
   ]
  },
  {
   "cell_type": "raw",
   "id": "ba9633fb-73ad-43b1-be93-3f0a95ad35ae",
   "metadata": {},
   "source": [
    "radianos = int(input(\"Digite o número de radianos: \"))\n",
    "print(\"O valor em graus é:\", rad_to_dg(radianos))"
   ]
  },
  {
   "cell_type": "code",
   "execution_count": 4,
   "id": "693d9e6e-c65d-4e6f-af50-c07c88838889",
   "metadata": {
    "collapsed": true,
    "jupyter": {
     "outputs_hidden": true
    },
    "tags": []
   },
   "outputs": [
    {
     "name": "stdout",
     "output_type": "stream",
     "text": [
      "Olá mundo! Este programa converte graus para radianos e vice-e-versa!\n"
     ]
    },
    {
     "name": "stdin",
     "output_type": "stream",
     "text": [
      "Digite o valor para conversão:  55\n",
      "Digite:\n",
      "1 - para converter GRAUS para RADIANOS;\n",
      "2 - para converter RADIANOS para GRAUS;\n",
      " 4\n"
     ]
    },
    {
     "name": "stdout",
     "output_type": "stream",
     "text": [
      "Digite uma opção válida\n"
     ]
    },
    {
     "name": "stdin",
     "output_type": "stream",
     "text": [
      "Digite:\n",
      "1 - para converter GRAUS para RADIANOS;\n",
      "2 - para converter RADIANOS para GRAUS;\n",
      " dd\n"
     ]
    },
    {
     "name": "stdout",
     "output_type": "stream",
     "text": [
      "Digite uma opção válida\n"
     ]
    },
    {
     "name": "stdin",
     "output_type": "stream",
     "text": [
      "Digite:\n",
      "1 - para converter GRAUS para RADIANOS;\n",
      "2 - para converter RADIANOS para GRAUS;\n",
      " d\n"
     ]
    },
    {
     "name": "stdout",
     "output_type": "stream",
     "text": [
      "Digite uma opção válida\n"
     ]
    },
    {
     "name": "stdin",
     "output_type": "stream",
     "text": [
      "Digite:\n",
      "1 - para converter GRAUS para RADIANOS;\n",
      "2 - para converter RADIANOS para GRAUS;\n",
      " 2\n"
     ]
    },
    {
     "name": "stdout",
     "output_type": "stream",
     "text": [
      "O valor em graus é: 3151.2678732195277\n"
     ]
    }
   ],
   "source": [
    "# graus para radianos e vice versa conversor\n",
    "\n",
    "def circulo_conversor():\n",
    "    print(\"Olá mundo! Este programa converte graus para radianos e vice-e-versa!\", end=\"\\n\")\n",
    "    numero = int(input(\"Digite o valor para conversão: \"))\n",
    "    while True:\n",
    "        choice = input(\"Digite:\\n1 - para converter GRAUS para RADIANOS;\\n\"\n",
    "                       \"2 - para converter RADIANOS para GRAUS;\\n\")\n",
    "        if choice == \"1\":\n",
    "            print(\"O valor em radianos é:\", dg_to_rad(numero))\n",
    "            break\n",
    "        elif choice == \"2\":\n",
    "            print(\"O valor em graus é:\", rad_to_dg(numero))\n",
    "            break\n",
    "        else:\n",
    "            print(\"Digite uma opção válida\")\n",
    "\n",
    "circulo_conversor()"
   ]
  },
  {
   "cell_type": "markdown",
   "id": "843bbd42-11b1-4911-b846-1599eacd7bdf",
   "metadata": {},
   "source": [
    "### 3. Write a Python program to calculate the area of a trapezoid.\n",
    "Note : A trapezoid is a quadrilateral with two sides parallel. The trapezoid is equivalent to the British definition of the trapezium. An isosceles trapezoid is a trapezoid in which the base angles are equal so.  \n",
    "Test Data:  \n",
    "Height : 5  \n",
    "Base, first value : 5  \n",
    "Base, second value : 6  \n",
    "Expected Output: Area is : 27.5"
   ]
  },
  {
   "cell_type": "code",
   "execution_count": 7,
   "id": "0203e5a0-1399-436d-8496-e05386334539",
   "metadata": {},
   "outputs": [],
   "source": [
    "def trapezoide_area(altura, base1, base2):\n",
    "    '''(altura, base menor, base maior) -> (area)\n",
    "    Calcula a área de um trapézio a partir das \n",
    "    medidas das suas bases e altura.\n",
    "    '''\n",
    "    area = ((base1 + base2) / 2) * altura\n",
    "    return area"
   ]
  },
  {
   "cell_type": "code",
   "execution_count": 8,
   "id": "1e2d00b2-8841-4f2a-92d3-cb17452ca0fe",
   "metadata": {},
   "outputs": [
    {
     "data": {
      "text/plain": [
       "27.5"
      ]
     },
     "execution_count": 8,
     "metadata": {},
     "output_type": "execute_result"
    }
   ],
   "source": [
    "trapezoide_area(5, 5, 6)"
   ]
  },
  {
   "cell_type": "code",
   "execution_count": null,
   "id": "17fab45c-41c4-48ca-aa50-d847f0d6fc65",
   "metadata": {},
   "outputs": [],
   "source": []
  }
 ],
 "metadata": {
  "kernelspec": {
   "display_name": "Python 3",
   "language": "python",
   "name": "python3"
  },
  "language_info": {
   "codemirror_mode": {
    "name": "ipython",
    "version": 3
   },
   "file_extension": ".py",
   "mimetype": "text/x-python",
   "name": "python",
   "nbconvert_exporter": "python",
   "pygments_lexer": "ipython3",
   "version": "3.8.8"
  }
 },
 "nbformat": 4,
 "nbformat_minor": 5
}

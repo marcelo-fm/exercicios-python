{
 "cells": [
  {
   "cell_type": "markdown",
   "id": "133dc888-7a1d-4ec8-b3c5-c21805278b60",
   "metadata": {},
   "source": [
    "# Python basic (Part -I) [150 exercises with solution](https://www.w3resource.com/python-exercises/python-basic-exercises.php)"
   ]
  },
  {
   "cell_type": "markdown",
   "id": "d800b457-fd44-40e0-b603-a2b95e6b9828",
   "metadata": {},
   "source": [
    "### 1. Write a Python program to print the following string in a specific format (see the output). Go to the editor\n",
    "Sample String : \"Twinkle, twinkle, little star, How I wonder what you are! Up above the world so high, Like a diamond in the sky. Twinkle, twinkle, little star, How I wonder what you are\" Output :\n",
    "\n",
    "Twinkle, twinkle, little star,  \n",
    "    How I wonder what you are!  \n",
    "\t\tUp above the world so high,  \n",
    "\t\tLike a diamond in the sky.  \n",
    "Twinkle, twinkle, little star,  \n",
    "\tHow I wonder what you are"
   ]
  },
  {
   "cell_type": "code",
   "execution_count": 1,
   "id": "97cd01ec-f4fe-414d-b0f9-533e95fd9bc7",
   "metadata": {},
   "outputs": [
    {
     "name": "stdout",
     "output_type": "stream",
     "text": [
      "Twinkle, twinkle, little star,\n",
      "\tHow I wonder what you are!\n",
      "\t\tUp above the world so high,\n",
      "\t\tLike a diamond in the sky.\n",
      "Twinkle, twinkle, little star,\n",
      "\tHow I wonder what you are\n"
     ]
    }
   ],
   "source": [
    "print(\"Twinkle, twinkle, little star,\\n\"\n",
    "      \"\\tHow I wonder what you are!\\n\"\n",
    "      \"\\t\\tUp above the world so high,\\n\"\n",
    "      \"\\t\\tLike a diamond in the sky.\\n\"\n",
    "      \"Twinkle, twinkle, little star,\\n\"\n",
    "      \"\\tHow I wonder what you are\")"
   ]
  },
  {
   "cell_type": "markdown",
   "id": "91c72f12-45d6-4715-bcb4-fc7ff64dba5f",
   "metadata": {},
   "source": [
    "### 2. Write a Python program to get the Python version you are using."
   ]
  },
  {
   "cell_type": "code",
   "execution_count": 2,
   "id": "be1a504e-0259-47fb-a43f-7c25d85cd1f2",
   "metadata": {},
   "outputs": [],
   "source": [
    "import sys"
   ]
  },
  {
   "cell_type": "code",
   "execution_count": 3,
   "id": "3db2ca79-8553-4abf-8504-b5c73e3e1946",
   "metadata": {},
   "outputs": [
    {
     "name": "stdout",
     "output_type": "stream",
     "text": [
      "Python Version: \n",
      "3.8.8 (default, Apr 13 2021, 15:08:03) [MSC v.1916 64 bit (AMD64)]\n",
      "Done!\n"
     ]
    }
   ],
   "source": [
    "print(\"Python Version: \")\n",
    "print(sys.version)\n",
    "print(\"Done!\")"
   ]
  },
  {
   "cell_type": "markdown",
   "id": "28dc8e6f-c060-48ac-b593-e41ce27a059d",
   "metadata": {},
   "source": [
    "### 3. Write a Python program to display the current date and time.\n",
    "Sample Output :\n",
    "Current date and time :\n",
    "2014-07-05 14:34:14"
   ]
  },
  {
   "cell_type": "code",
   "execution_count": 4,
   "id": "8c9a37bd-1dd1-4e7d-bb9e-5351c58383d4",
   "metadata": {},
   "outputs": [
    {
     "name": "stdout",
     "output_type": "stream",
     "text": [
      "Current date and time:  15-10-2021 11:34:35\n",
      "Done!\n"
     ]
    }
   ],
   "source": [
    "import datetime as dt\n",
    "now = dt.datetime.now()\n",
    "print(\"Current date and time: \", now.strftime(\"%d-%m-%Y %H:%M:%S\"))\n",
    "print(\"Done!\")\n"
   ]
  },
  {
   "cell_type": "markdown",
   "id": "0e7c9e99-934e-4e94-964f-a3afa8b3b402",
   "metadata": {},
   "source": [
    "### 4. Write a Python program which accepts the radius of a circle from the user and compute the area.\n",
    "Sample Output :\n",
    "r = 1.1\n",
    "Area = 3.8013271108436504"
   ]
  },
  {
   "cell_type": "code",
   "execution_count": 5,
   "id": "31384a7d-ac46-4897-9a4e-311235c61a37",
   "metadata": {},
   "outputs": [
    {
     "name": "stdout",
     "output_type": "stream",
     "text": [
      "Area =  78.53981633974483\n"
     ]
    }
   ],
   "source": [
    "import numpy as np\n",
    "#raio = float(input(\"Sample Output: \"))\n",
    "raio = 5\n",
    "area = np.pi * raio**2\n",
    "print(\"Area = \", area)"
   ]
  },
  {
   "cell_type": "markdown",
   "id": "d6b16ad7-fa54-42d6-9400-ad2a0d8a1625",
   "metadata": {},
   "source": [
    "### 5. Write a Python program which accepts the user's first and last name and print them in reverse order with a space between them."
   ]
  },
  {
   "cell_type": "code",
   "execution_count": 6,
   "id": "cf372864-b73f-4467-a1cb-da1830596c1d",
   "metadata": {},
   "outputs": [
    {
     "name": "stdout",
     "output_type": "stream",
     "text": [
      "Mesquita Marcelo\n"
     ]
    }
   ],
   "source": [
    "#nome = [input(\"Digite seu nome: \"), input(\"Digite seu sobrenome: \")]\n",
    "nome = [\"Marcelo\",\"Mesquita\"]\n",
    "print(nome[1], nome[0])\n"
   ]
  },
  {
   "cell_type": "markdown",
   "id": "2e8b813b-1234-4d1d-9ee1-fb39c7f6b27f",
   "metadata": {},
   "source": [
    "### 6. Write a Python program which accepts a sequence of comma-separated numbers from user and generate a list and a tuple with those numbers.\n",
    "Sample data : 3, 5, 7, 23\n",
    "Output :\n",
    "List : ['3', ' 5', ' 7', ' 23']\n",
    "Tuple : ('3', ' 5', ' 7', ' 23')"
   ]
  },
  {
   "cell_type": "code",
   "execution_count": 7,
   "id": "08fdb038-8ad4-4d2b-a21c-2a267cfbdb10",
   "metadata": {},
   "outputs": [
    {
     "name": "stdout",
     "output_type": "stream",
     "text": [
      "Lista: ['10', '20', '30']\n",
      "Tuple: ('10', '20', '30')\n"
     ]
    }
   ],
   "source": [
    "#data = input(\"Digite os valores separados somente por virgula\")\n",
    "data = \"10,20,30\"\n",
    "data = data.split(\",\")\n",
    "\n",
    "print(\"Lista:\", data)\n",
    "print(\"Tuple:\", tuple(data))"
   ]
  },
  {
   "cell_type": "markdown",
   "id": "d5fa475c-2c0f-4885-bff8-5628bc855be7",
   "metadata": {},
   "source": [
    "### 7. Write a Python program to accept a filename from the user and print the extension of that.\n",
    "Sample filename : abc.java <br>\n",
    "Output : java"
   ]
  },
  {
   "cell_type": "code",
   "execution_count": 8,
   "id": "8762eac3-3dd7-4cf9-a8fe-ac8100acf54f",
   "metadata": {},
   "outputs": [
    {
     "name": "stdout",
     "output_type": "stream",
     "text": [
      "A extensão do seu arquivo é: txt\n"
     ]
    }
   ],
   "source": [
    "#file = input(\"Digite o nome do arquivo: \")\n",
    "file = \"file.txt\"\n",
    "file_ext = file.split(\".\")\n",
    "print(\"A extensão do seu arquivo é:\", file_ext[-1])"
   ]
  },
  {
   "cell_type": "markdown",
   "id": "fce5b418-65fa-4dde-a7f9-07f9ee0c230d",
   "metadata": {},
   "source": [
    "### 8. Write a Python program to display the first and last colors from the following list.\n",
    "color_list = [\"Red\",\"Green\",\"White\" ,\"Black\"]"
   ]
  },
  {
   "cell_type": "code",
   "execution_count": 9,
   "id": "e8b988d7-8e31-42f2-a2ea-ab9000f3b855",
   "metadata": {},
   "outputs": [
    {
     "name": "stdout",
     "output_type": "stream",
     "text": [
      "Red and Black\n"
     ]
    }
   ],
   "source": [
    "color_list = [\"Red\",\"Green\",\"White\" ,\"Black\"]\n",
    "print(color_list[0], \"and\", color_list[-1])"
   ]
  },
  {
   "cell_type": "markdown",
   "id": "ea140669-e6df-48cf-87d4-328e1eba7b66",
   "metadata": {},
   "source": [
    "### 9. Write a Python program to display the examination schedule. (extract the date from exam_st_date).\n",
    "exam_st_date = (11, 12, 2014)  \n",
    "Sample Output : The examination will start from : 11 / 12 / 2014"
   ]
  },
  {
   "cell_type": "code",
   "execution_count": 10,
   "id": "9ac843f0-c649-46e1-9546-b412f70ba433",
   "metadata": {},
   "outputs": [
    {
     "name": "stdout",
     "output_type": "stream",
     "text": [
      "The examination will start from: 11/12/2014\n"
     ]
    }
   ],
   "source": [
    "exam_st_date = (11, 12, 2014)\n",
    "exam = list(exam_st_date)\n",
    "\n",
    "print(\"The examination will start from:\", str(exam[0]) + \"/\" + str(exam[1]) + \n",
    "      \"/\" + str(exam[2]))"
   ]
  },
  {
   "cell_type": "markdown",
   "id": "93907afa-8b84-4141-a741-1fdcc3ce3297",
   "metadata": {},
   "source": [
    "### 10. Write a Python program that accepts an integer (n) and computes the value of n+nn+nnn.\n",
    "Sample value of n is 5  \n",
    "Expected Result : 615"
   ]
  },
  {
   "cell_type": "code",
   "execution_count": 11,
   "id": "e24e3a81-0d0b-4b2a-ab69-37e30c7ee7bd",
   "metadata": {},
   "outputs": [
    {
     "name": "stdout",
     "output_type": "stream",
     "text": [
      "Resultado: 775428\n"
     ]
    }
   ],
   "source": [
    "#val = input(\"Digite um número inteiro: \")\n",
    "val = str(76)\n",
    "res = int(val) + int(val+val) + int(val+val+val)\n",
    "\n",
    "print(\"Resultado:\", res)"
   ]
  },
  {
   "cell_type": "markdown",
   "id": "ed0a6163-2199-46ab-9581-581c089ec624",
   "metadata": {},
   "source": [
    "### 11. Write a Python program to print the documents (syntax, description etc.) of Python built-in function(s).\n",
    "Sample function : abs()\n",
    "Expected Result :\n",
    "abs(number) -> number\n",
    "Return the absolute value of the argument."
   ]
  },
  {
   "cell_type": "code",
   "execution_count": 12,
   "id": "dffe7ff3-38fa-4c95-8b8f-a73eec5f294b",
   "metadata": {},
   "outputs": [
    {
     "name": "stdout",
     "output_type": "stream",
     "text": [
      "Return the absolute value of the argument.\n"
     ]
    }
   ],
   "source": [
    "print(abs.__doc__)"
   ]
  },
  {
   "cell_type": "markdown",
   "id": "408f7c89-8c84-4f77-8f05-2e7052cba4f7",
   "metadata": {},
   "source": [
    "### 12. Write a Python program to print the calendar of a given month and year.\n",
    "Note : Use 'calendar' module."
   ]
  },
  {
   "cell_type": "code",
   "execution_count": 13,
   "id": "67ce74f3-377f-407d-afab-c16aba613d27",
   "metadata": {},
   "outputs": [
    {
     "name": "stdout",
     "output_type": "stream",
     "text": [
      "    October 2021\n",
      "Mo Tu We Th Fr Sa Su\n",
      "             1  2  3\n",
      " 4  5  6  7  8  9 10\n",
      "11 12 13 14 15 16 17\n",
      "18 19 20 21 22 23 24\n",
      "25 26 27 28 29 30 31\n",
      "\n"
     ]
    }
   ],
   "source": [
    "import calendar\n",
    "\n",
    "#y = int(input(\"Digite o ano: \"))\n",
    "#m = int(input(\"Digite o mês: \"))\n",
    "y, m = 2021, 10\n",
    "\n",
    "print(calendar.month(y, m))"
   ]
  },
  {
   "cell_type": "markdown",
   "id": "84eb2fc1-040c-4713-9295-e31b3b1bb4cc",
   "metadata": {},
   "source": [
    "### 13. Write a Python program to print the following 'here document'.\n",
    "Sample string :  \n",
    "a string that you \"don't\" have to escape  \n",
    "This  \n",
    "is a ....... multi-line  \n",
    "heredoc string --------> example"
   ]
  },
  {
   "cell_type": "code",
   "execution_count": 14,
   "id": "bf8ad6cb-a6c1-40a0-9533-efef06fc6dcc",
   "metadata": {},
   "outputs": [
    {
     "name": "stdout",
     "output_type": "stream",
     "text": [
      "a string that you \"don't\" have to escape\n",
      "This\n",
      "is a ....... multi-line\n",
      "heredoc string --------> example\n"
     ]
    }
   ],
   "source": [
    "print(\"\"\"a string that you \"don't\" have to escape\\nThis\\nis a ....... multi-line\\nheredoc string --------> example\"\"\")"
   ]
  },
  {
   "cell_type": "markdown",
   "id": "83b0adb0-4b31-491b-9580-31c029265928",
   "metadata": {},
   "source": [
    "### 14. Write a Python program to calculate number of days between two dates.\n",
    "Sample dates : (2014, 7, 2), (2014, 7, 11)\n",
    "Expected output : 9 days"
   ]
  },
  {
   "cell_type": "code",
   "execution_count": 15,
   "id": "6a36b7d3-6051-4821-9211-dd5faa8718f9",
   "metadata": {},
   "outputs": [],
   "source": [
    "import datetime as dt"
   ]
  },
  {
   "cell_type": "code",
   "execution_count": 16,
   "id": "f67a825d-ac2d-47de-bc27-0ff0f1bcae15",
   "metadata": {},
   "outputs": [],
   "source": [
    "data1 = dt.datetime(2014, 7, 2)\n",
    "data2 = dt.datetime(2014, 7, 11)"
   ]
  },
  {
   "cell_type": "raw",
   "id": "985aa439-8d5d-445c-8aa7-17ec1d88c2fe",
   "metadata": {},
   "source": [
    "data1 = dt.datetime(int(input(\"Digite a primeira data: \")))\n",
    "data2 = dt.datetime(int(input(\"Digite a segunda data: \")))"
   ]
  },
  {
   "cell_type": "code",
   "execution_count": 17,
   "id": "3a2716aa-5bf2-490d-b559-10639f5beec9",
   "metadata": {},
   "outputs": [
    {
     "name": "stdout",
     "output_type": "stream",
     "text": [
      "9 days\n"
     ]
    }
   ],
   "source": [
    "period = data2 - data1\n",
    "print(period.days, \"days\")"
   ]
  },
  {
   "cell_type": "markdown",
   "id": "30fca3a1-b5db-4f3f-bbbe-081355694a24",
   "metadata": {},
   "source": [
    "### 15. Write a Python program to get the volume of a sphere with radius 6"
   ]
  },
  {
   "cell_type": "code",
   "execution_count": 22,
   "id": "09c9ee01-ebc1-4ec3-a1ef-2fe6d50a5712",
   "metadata": {},
   "outputs": [
    {
     "name": "stdout",
     "output_type": "stream",
     "text": [
      "O volume da esfera é: 904.7786842338604\n"
     ]
    }
   ],
   "source": [
    "from numpy import pi\n",
    "\n",
    "\n",
    "raio = 6\n",
    "volume = 4 * pi * (raio**3) / 3\n",
    "print(\"O volume da esfera é:\", volume)"
   ]
  },
  {
   "cell_type": "markdown",
   "id": "06408678-3ec8-4209-8af0-4e248aa98de8",
   "metadata": {},
   "source": [
    "### 16. Write a Python program to get the difference between a given number and 17, if the number is greater than 17 return double the absolute difference."
   ]
  },
  {
   "cell_type": "code",
   "execution_count": 27,
   "id": "42c34d81-dd1a-4bb0-b8d5-7465592d562c",
   "metadata": {},
   "outputs": [
    {
     "name": "stdout",
     "output_type": "stream",
     "text": [
      "10\n"
     ]
    }
   ],
   "source": [
    "\n",
    "#num = int(input(\"Digite um número para comparação: \"))\n",
    "num = 22\n",
    "\n",
    "if num > 17:\n",
    "    print((num-17) * 2)\n",
    "else:\n",
    "    print(17-num)"
   ]
  },
  {
   "cell_type": "code",
   "execution_count": null,
   "id": "ca55c746-4081-4586-a034-70d05619514d",
   "metadata": {},
   "outputs": [],
   "source": []
  }
 ],
 "metadata": {
  "kernelspec": {
   "display_name": "Python 3 (ipykernel)",
   "language": "python",
   "name": "python3"
  },
  "language_info": {
   "codemirror_mode": {
    "name": "ipython",
    "version": 3
   },
   "file_extension": ".py",
   "mimetype": "text/x-python",
   "name": "python",
   "nbconvert_exporter": "python",
   "pygments_lexer": "ipython3",
   "version": "3.9.7"
  }
 },
 "nbformat": 4,
 "nbformat_minor": 5
}

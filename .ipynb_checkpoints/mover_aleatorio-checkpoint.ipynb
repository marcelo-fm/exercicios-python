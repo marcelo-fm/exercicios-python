{
 "cells": [
  {
   "cell_type": "markdown",
   "id": "8c3aaaad-0f31-4997-a2be-000af804cd2d",
   "metadata": {},
   "source": [
    "# Programa para mover pasta aleatoriamente no sistema"
   ]
  },
  {
   "cell_type": "markdown",
   "id": "4874b6f6-d3bd-4c64-8a7d-f06f481b4c6f",
   "metadata": {},
   "source": [
    "O objetivo do programa é escolher uma pasta, e mover esta pasta para uma outra pasta aleatória já existente no HD"
   ]
  },
  {
   "cell_type": "markdown",
   "id": "eaa23de5-0ec6-4766-a0ca-1f2334453e2a",
   "metadata": {},
   "source": [
    "### passos para o programa:\n",
    "* primeiro o usuario digita o caminho do diretorio\n",
    "* depois o programa pede qual o diretório de destino\n",
    "* o programa escolhe dentre esse destino um caminho de pasta aleatório para mover o diretorio inicial\n",
    "* o programa move essa pasta\n",
    "* feito!"
   ]
  },
  {
   "cell_type": "markdown",
   "id": "ebce6a38-7ee8-4ef6-9510-a6be38ba0812",
   "metadata": {
    "jp-MarkdownHeadingCollapsed": true,
    "tags": []
   },
   "source": [
    "#### funções:\n"
   ]
  },
  {
   "cell_type": "code",
   "execution_count": 1,
   "id": "86f31294-7fa6-4ba5-8b84-66e49f7075ab",
   "metadata": {},
   "outputs": [],
   "source": [
    "import os, shutil, random"
   ]
  },
  {
   "cell_type": "code",
   "execution_count": 2,
   "id": "66d0374a-44aa-4250-bf9b-8d26dfdbae7e",
   "metadata": {},
   "outputs": [],
   "source": [
    "def remove_dir(lista_dir, more_dir=[]):\n",
    "    '''Recebe uma lista com diretórios\n",
    "    e opcionalmente diretórios a serem\n",
    "    removidos. remove diretórios pre-\n",
    "    retabelecidos e também outros\n",
    "    diretórios indesejados.'''\n",
    "    \n",
    "    if os.getcwd() == 'C:\\\\':\n",
    "        blacklisted = ['$Recycle.Bin', '$WinREAgent', 'Arquivos de Programas', \n",
    "                       'Documents and Settings', 'DumpStack.log.tmp', 'hiberfil.sys', \n",
    "                       'Intel', 'OneDriveTemp', 'pagefile.sys', 'PerfLogs', 'ProgramData', \n",
    "                       'Recovery', 'swapfile.sys', 'System Volume Information', 'Windows']\n",
    "    else:\n",
    "        blacklisted = ['$RECYCLE.BIN', '.Trash-1000', 'msdownld.tmp', 'SteamLibrary', 'System Volume Information']\n",
    "    \n",
    "    blacklisted.append(more_dir)\n",
    "        \n",
    "    for i in range(len(blacklisted)-1):\n",
    "        lista_dir.remove(blacklisted[i])\n",
    "        \n",
    "    return lista_dir\n"
   ]
  },
  {
   "cell_type": "markdown",
   "id": "ce989b07-6d13-402f-9f87-c1ea54e13078",
   "metadata": {
    "jp-MarkdownHeadingCollapsed": true,
    "tags": []
   },
   "source": [
    "#### FUNÇÕES PARA CONSEGUIR SUBPASTAS DE UMA PASTA:"
   ]
  },
  {
   "cell_type": "code",
   "execution_count": 3,
   "id": "dbff9a00-0a53-4164-8320-1caa14420376",
   "metadata": {},
   "outputs": [],
   "source": [
    "def add_path(path, lista):\n",
    "    '''Recebe um um caminho e uma lista\n",
    "    e retorna a lista com o caminho em cada\n",
    "    item.'''\n",
    "    \n",
    "    for i in range(len(lista)):\n",
    "        lista[i] = os.path.join(path, lista[i])\n",
    "    \n",
    "    return lista\n"
   ]
  },
  {
   "cell_type": "code",
   "execution_count": 4,
   "id": "80337aa5-1cfb-4599-8fd9-e75ee28da869",
   "metadata": {},
   "outputs": [],
   "source": [
    "def remove_files(lista):\n",
    "    '''Recebe uma lista e remove os arquivos\n",
    "    da mesma.'''\n",
    "    \n",
    "    only_dir = []\n",
    "    for item in lista:\n",
    "        if os.path.isdir(item):\n",
    "            only_dir.append(item)\n",
    "        else:\n",
    "            None\n",
    "\n",
    "    return only_dir\n"
   ]
  },
  {
   "cell_type": "code",
   "execution_count": 5,
   "id": "9d0898a9-2228-402c-b75a-cb7bdffff510",
   "metadata": {},
   "outputs": [],
   "source": [
    "def subfolder_finder(path):\n",
    "    '''Recebe um caminho e retorna as suas \n",
    "    subpastas.'''\n",
    "    \n",
    "    subpastas = os.listdir(path)\n",
    "    subpastas = add_path(path, subpastas)\n",
    "    subpastas = remove_files(subpastas)\n",
    "    \n",
    "    return subpastas\n"
   ]
  },
  {
   "cell_type": "markdown",
   "id": "be8d5917-4c23-4214-9381-b1e9a5229114",
   "metadata": {
    "jp-MarkdownHeadingCollapsed": true,
    "tags": []
   },
   "source": [
    "#### FUNÇÃO PARA CRIAR O REPOSITÓRIO DE PASTAS ELEGÍVEIS PARA A TRANSFERÊNCIA:"
   ]
  },
  {
   "cell_type": "code",
   "execution_count": 6,
   "id": "1c7e42ef-afb4-4c19-870f-52a69a8ee95c",
   "metadata": {},
   "outputs": [],
   "source": [
    "def rep_pastas(path):\n",
    "    ''''Recebe um caminho e retorna todas\n",
    "    as pastas elegíveis para transferência.'''\n",
    "    os.chdir(path)\n",
    "    #a primeira leva de pastas tem que passar pela remove_dir\n",
    "    if path == 'D:' or path == 'C:':\n",
    "        pastas = remove_dir(os.listdir(path))\n",
    "    else:\n",
    "        pastas = os.listdir(path)\n",
    "    pastas = add_path(path, pastas)\n",
    "    pastas = remove_files(pastas)\n",
    "    \n",
    "    #agora vem o loop\n",
    "    i = 0\n",
    "    while i < len(pastas):\n",
    "        subpastas = subfolder_finder(pastas[i])\n",
    "        pastas += subpastas\n",
    "        #print(i, 'de', len(pastas))\n",
    "        i += 1\n",
    "    \n",
    "    return pastas\n"
   ]
  },
  {
   "cell_type": "markdown",
   "id": "06df0da8-ef14-4039-bf32-479292d179f4",
   "metadata": {
    "tags": []
   },
   "source": [
    "#### Função para mover os arquivos de uma pasta para outra"
   ]
  },
  {
   "cell_type": "code",
   "execution_count": 13,
   "id": "814de3ee-aecf-4dbd-9496-59580c69a779",
   "metadata": {},
   "outputs": [],
   "source": [
    "def move_random(path, folders):\n",
    "    '''recebe um caminho origem e uma lista de\n",
    "    destinos, escolhe um destino aleatorio e move\n",
    "    a pasta origem para este.'''\n",
    "    \n",
    "    source = path\n",
    "    destination = folders[random.randint(0, len(folders))]\n",
    "    \n",
    "    shutil.move(source, destination)\n",
    "    \n",
    "    with open(os.path.join(\"D:\", \"key.txt\"), 'w') as file:\n",
    "        file.write(destination)\n",
    "    \n",
    "    shutil.move(os.path.join(\"D:\", \"key.txt\"), folders[random.randint(0, len(folders))])\n"
   ]
  },
  {
   "cell_type": "markdown",
   "id": "26401ee3-4ee5-44bf-8fbd-249443582bb3",
   "metadata": {
    "jp-MarkdownHeadingCollapsed": true,
    "tags": []
   },
   "source": [
    "#### FUNÇÃO INICIO:"
   ]
  },
  {
   "cell_type": "code",
   "execution_count": 47,
   "id": "bbf12a5a-6a69-4292-b32b-38621cdf544f",
   "metadata": {},
   "outputs": [],
   "source": [
    "def start():\n",
    "    print(\"Olá! Seja bem vindo ao transferidor 3000!\", end=\"\\n\")\n",
    "    print(\"Este programa transfere uma pasta ou arquivo para um destino aleatório dentro do HD, e gera uma chave que é posicionada em um lugar também aleatório\", end=\"\\n\")\n",
    "    print(\"\")\n",
    "    \n",
    "    while True:\n",
    "        HDD = input(\"Para começar, digite a letra do HD de destino (C ou D ou G, etc): \") + \":\"\n",
    "        try:\n",
    "            os.chdir(HDD)\n",
    "        except FileNotFoundError:\n",
    "            print(\"Caminho incorreto, escolha um HD válido!\")\n",
    "        else:\n",
    "            print(\"Feito!\")\n",
    "            break\n",
    "    \n",
    "    print(\"\")\n",
    "    origem = input(\"Agora digite o caminho pasta por pasta da pasta/arquivo que deseja mover (Discos devem ter o seguinte formato: X:\\): \")\n",
    "    caminho = origem\n",
    "    while caminho != \"\":\n",
    "        caminho = input(\"Digite a proxima pasta (ou dê enter para terminar) \" + \"[\" + origem + \"]\")\n",
    "        if caminho == \"\":\n",
    "            break\n",
    "        else:\n",
    "            origem = os.path.join(origem, caminho)\n",
    "    print(\"\")\n",
    "    print(\"Criando lista de possíveis destinos...\")\n",
    "    destinos = rep_pastas(HDD)\n",
    "    print(\"Feito!\")\n",
    "    print(\"\")\n",
    "    print(\"Movendo para um destino e criando chave \\\"key\\\" para localização...\")\n",
    "    move_random(origem, destinos)\n",
    "    print(\"Feito!\")\n",
    "    print(\"\")\n",
    "    print(\"Pasta/Arquivo transferido!\")\n",
    "    print(\"\")\n",
    "    print(\"Encerrando.\")\n"
   ]
  },
  {
   "cell_type": "markdown",
   "id": "f9dde623-5427-400b-96ff-50bc06905c93",
   "metadata": {
    "jp-MarkdownHeadingCollapsed": true,
    "tags": []
   },
   "source": [
    "#### START:"
   ]
  },
  {
   "cell_type": "raw",
   "id": "0bc5f7ae-8250-40be-9411-550b8771b971",
   "metadata": {},
   "source": [
    "start()"
   ]
  }
 ],
 "metadata": {
  "kernelspec": {
   "display_name": "Python 3 (ipykernel)",
   "language": "python",
   "name": "python3"
  },
  "language_info": {
   "codemirror_mode": {
    "name": "ipython",
    "version": 3
   },
   "file_extension": ".py",
   "mimetype": "text/x-python",
   "name": "python",
   "nbconvert_exporter": "python",
   "pygments_lexer": "ipython3",
   "version": "3.9.7"
  }
 },
 "nbformat": 4,
 "nbformat_minor": 5
}
